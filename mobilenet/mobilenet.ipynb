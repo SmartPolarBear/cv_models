{
 "cells": [
  {
   "cell_type": "code",
   "execution_count": 1,
   "metadata": {
    "collapsed": true,
    "pycharm": {
     "name": "#%%\n"
    }
   },
   "outputs": [],
   "source": [
    "import torchvision\n",
    "import torch\n",
    "import torch.nn as nn\n",
    "\n",
    "from torchvision import transforms\n",
    "\n",
    "from tqdm import tqdm\n",
    "\n",
    "from mobilenet.model.mobilenet import MobileNetV2"
   ]
  },
  {
   "cell_type": "code",
   "execution_count": null,
   "outputs": [
    {
     "name": "stdout",
     "output_type": "stream",
     "text": [
      "Downloading https://www.cs.toronto.edu/~kriz/cifar-10-python.tar.gz to ./data\\cifar-10-python.tar.gz\n"
     ]
    }
   ],
   "source": [
    "transform = transforms.Compose([\n",
    "    transforms.Resize(224),\n",
    "    transforms.ToTensor(),\n",
    "    transforms.Normalize((0.1307,), (0.3081,))\n",
    "])\n",
    "dataset1 = torchvision.datasets.CIFAR10('./data', train=True, download=True,\n",
    "                                        transform=transform)\n",
    "dataset2 = torchvision.datasets.CIFAR10('./data', train=False, download=True,\n",
    "                                        transform=transform)"
   ],
   "metadata": {
    "collapsed": false,
    "pycharm": {
     "name": "#%%\n",
     "is_executing": true
    }
   }
  },
  {
   "cell_type": "code",
   "execution_count": null,
   "outputs": [],
   "source": [
    "model = MobileNetV2(in_channels=3, classes=10, classifier_drop=0.2)"
   ],
   "metadata": {
    "collapsed": false,
    "pycharm": {
     "name": "#%%\n",
     "is_executing": true
    }
   }
  },
  {
   "cell_type": "code",
   "execution_count": null,
   "outputs": [],
   "source": [
    "train_params = {\n",
    "    'epochs': 16,\n",
    "    'lr': 0.1,\n",
    "    'eval_portion': 0.2,\n",
    "    'batch_size': 16\n",
    "}\n",
    "\n",
    "device = torch.device('cuda')"
   ],
   "metadata": {
    "collapsed": false,
    "pycharm": {
     "name": "#%%\n",
     "is_executing": true
    }
   }
  },
  {
   "cell_type": "code",
   "execution_count": null,
   "outputs": [],
   "source": [
    "from torch.utils.data import DataLoader, random_split\n",
    "\n",
    "EVAL_LENGTH = int(len(dataset1) * train_params['eval_portion'])\n",
    "\n",
    "train_set, eval_set = random_split(dataset1, [len(dataset1) - EVAL_LENGTH, EVAL_LENGTH])\n",
    "train_loader = DataLoader(train_set, batch_size=train_params['batch_size'],\n",
    "                          shuffle=True)\n",
    "\n",
    "eval_loader = DataLoader(eval_set, batch_size=train_params['batch_size'])\n",
    "\n",
    "test_loader = DataLoader(dataset2, batch_size=train_params['batch_size'],\n",
    "                         shuffle=True)\n"
   ],
   "metadata": {
    "collapsed": false,
    "pycharm": {
     "name": "#%%\n",
     "is_executing": true
    }
   }
  },
  {
   "cell_type": "code",
   "execution_count": null,
   "outputs": [],
   "source": [
    "model = model.to(device)\n",
    "\n",
    "optimizer = torch.optim.SGD(model.parameters(), lr=train_params['lr'], momentum=0.9, weight_decay=1e-5)\n",
    "scheduler = torch.optim.lr_scheduler.ExponentialLR(optimizer=optimizer, gamma=0.9)\n",
    "\n",
    "cross_entropy = nn.CrossEntropyLoss()\n",
    "\n",
    "best_accuracy = 0.0\n",
    "\n",
    "for e in range(train_params['epochs']):\n",
    "    train_loss = 0.0\n",
    "    model.train()\n",
    "    for images, labels in tqdm(iter(train_loader), desc='Training...'):\n",
    "        optimizer.zero_grad()\n",
    "\n",
    "        images = images.to(device)\n",
    "        labels = labels.to(device)\n",
    "\n",
    "        outputs = model(images)\n",
    "        loss = cross_entropy(outputs, labels)\n",
    "        train_loss += loss.cpu().detach().numpy()\n",
    "\n",
    "        loss.backward()\n",
    "        optimizer.step()\n",
    "\n",
    "    print(f\"Training average loss: {train_loss / len(train_loader)}\")\n",
    "\n",
    "    test_acc_count = 0.0\n",
    "    eval_loss = 0.0\n",
    "\n",
    "    model.eval()\n",
    "    with torch.no_grad():\n",
    "        for images, labels in tqdm(iter(eval_loader), desc='Eval...'):\n",
    "            images = images.to(device)\n",
    "            labels = labels.to(device)\n",
    "\n",
    "            outputs = model(images)\n",
    "\n",
    "            loss = cross_entropy(outputs, labels)\n",
    "            eval_loss += loss.cpu().detach().numpy()\n",
    "\n",
    "            pred = torch.argmax(outputs, 1)\n",
    "            test_acc_count += float(torch.sum(pred == labels))\n",
    "\n",
    "    test_accuracy = float(test_acc_count) / float(len(eval_set))\n",
    "    eval_loss /= len(eval_loader)\n",
    "\n",
    "    print(f'Epoch: {e + 1}, eval accuracy {test_accuracy}, eval loss {eval_loss}')\n",
    "    if test_accuracy > best_accuracy:\n",
    "        torch.save(model.state_dict(), 'checkpoints/model.pth')\n",
    "        best_accuracy = test_accuracy"
   ],
   "metadata": {
    "collapsed": false,
    "pycharm": {
     "name": "#%%\n",
     "is_executing": true
    }
   }
  }
 ],
 "metadata": {
  "kernelspec": {
   "display_name": "Python 3",
   "language": "python",
   "name": "python3"
  },
  "language_info": {
   "codemirror_mode": {
    "name": "ipython",
    "version": 2
   },
   "file_extension": ".py",
   "mimetype": "text/x-python",
   "name": "python",
   "nbconvert_exporter": "python",
   "pygments_lexer": "ipython2",
   "version": "2.7.6"
  }
 },
 "nbformat": 4,
 "nbformat_minor": 0
}