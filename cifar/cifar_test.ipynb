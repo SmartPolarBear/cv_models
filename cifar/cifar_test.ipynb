{
 "cells": [
  {
   "cell_type": "code",
   "execution_count": 1,
   "metadata": {
    "collapsed": true,
    "pycharm": {
     "name": "#%%\n"
    }
   },
   "outputs": [],
   "source": [
    "import torchvision\n",
    "import torch\n",
    "import torch.nn as nn\n",
    "\n",
    "from torchvision import transforms\n",
    "\n",
    "from tqdm import tqdm\n",
    "\n",
    "from mobilenet.model.mobilenet import MobileNetV2, MobileNetV2ConvClassifier"
   ]
  },
  {
   "cell_type": "code",
   "execution_count": 2,
   "outputs": [
    {
     "name": "stdout",
     "output_type": "stream",
     "text": [
      "Files already downloaded and verified\n",
      "Files already downloaded and verified\n"
     ]
    }
   ],
   "source": [
    "transform = transforms.Compose([\n",
    "    transforms.Resize(224),\n",
    "    transforms.ToTensor(),\n",
    "    transforms.Normalize((0.1307,), (0.3081,))\n",
    "])\n",
    "dataset1 = torchvision.datasets.CIFAR10('./data', train=True, download=True,\n",
    "                                        transform=transform)\n",
    "dataset2 = torchvision.datasets.CIFAR10('./data', train=False, download=True,\n",
    "                                        transform=transform)"
   ],
   "metadata": {
    "collapsed": false,
    "pycharm": {
     "name": "#%%\n"
    }
   }
  },
  {
   "cell_type": "code",
   "execution_count": 3,
   "outputs": [
    {
     "name": "stdout",
     "output_type": "stream",
     "text": [
      "MobileNetV2(\n",
      "  (conv1): ConvBNReluLayer(\n",
      "    (conv): Conv2d(3, 32, kernel_size=(1, 1), stride=(2, 2))\n",
      "    (bn): BatchNorm2d(32, eps=1e-05, momentum=0.1, affine=True, track_running_stats=True)\n",
      "    (act): ReLU6()\n",
      "  )\n",
      "  (layers): ModuleList(\n",
      "    (0): InvertedBottleneckBlock(\n",
      "      (pw1): Sequential()\n",
      "      (dw): ConvBNReluLayer(\n",
      "        (conv): Conv2d(32, 32, kernel_size=(3, 3), stride=(1, 1), padding=(1, 1), groups=32)\n",
      "        (bn): BatchNorm2d(32, eps=1e-05, momentum=0.1, affine=True, track_running_stats=True)\n",
      "        (act): ReLU6()\n",
      "      )\n",
      "      (pw2): ConvBNReluLayer(\n",
      "        (conv): Conv2d(32, 16, kernel_size=(1, 1), stride=(1, 1))\n",
      "        (bn): BatchNorm2d(16, eps=1e-05, momentum=0.1, affine=True, track_running_stats=True)\n",
      "        (act): Sequential()\n",
      "      )\n",
      "    )\n",
      "    (1): InvertedBottleneckBlock(\n",
      "      (pw1): ConvBNReluLayer(\n",
      "        (conv): Conv2d(16, 96, kernel_size=(1, 1), stride=(1, 1))\n",
      "        (bn): BatchNorm2d(96, eps=1e-05, momentum=0.1, affine=True, track_running_stats=True)\n",
      "        (act): ReLU6()\n",
      "      )\n",
      "      (dw): ConvBNReluLayer(\n",
      "        (conv): Conv2d(96, 96, kernel_size=(3, 3), stride=(2, 2), padding=(1, 1), groups=96)\n",
      "        (bn): BatchNorm2d(96, eps=1e-05, momentum=0.1, affine=True, track_running_stats=True)\n",
      "        (act): ReLU6()\n",
      "      )\n",
      "      (pw2): ConvBNReluLayer(\n",
      "        (conv): Conv2d(96, 24, kernel_size=(1, 1), stride=(1, 1))\n",
      "        (bn): BatchNorm2d(24, eps=1e-05, momentum=0.1, affine=True, track_running_stats=True)\n",
      "        (act): Sequential()\n",
      "      )\n",
      "    )\n",
      "    (2): InvertedBottleneckBlock(\n",
      "      (pw1): ConvBNReluLayer(\n",
      "        (conv): Conv2d(24, 144, kernel_size=(1, 1), stride=(1, 1))\n",
      "        (bn): BatchNorm2d(144, eps=1e-05, momentum=0.1, affine=True, track_running_stats=True)\n",
      "        (act): ReLU6()\n",
      "      )\n",
      "      (dw): ConvBNReluLayer(\n",
      "        (conv): Conv2d(144, 144, kernel_size=(3, 3), stride=(1, 1), padding=(1, 1), groups=144)\n",
      "        (bn): BatchNorm2d(144, eps=1e-05, momentum=0.1, affine=True, track_running_stats=True)\n",
      "        (act): ReLU6()\n",
      "      )\n",
      "      (pw2): ConvBNReluLayer(\n",
      "        (conv): Conv2d(144, 24, kernel_size=(1, 1), stride=(1, 1))\n",
      "        (bn): BatchNorm2d(24, eps=1e-05, momentum=0.1, affine=True, track_running_stats=True)\n",
      "        (act): Sequential()\n",
      "      )\n",
      "    )\n",
      "    (3): InvertedBottleneckBlock(\n",
      "      (pw1): ConvBNReluLayer(\n",
      "        (conv): Conv2d(24, 144, kernel_size=(1, 1), stride=(1, 1))\n",
      "        (bn): BatchNorm2d(144, eps=1e-05, momentum=0.1, affine=True, track_running_stats=True)\n",
      "        (act): ReLU6()\n",
      "      )\n",
      "      (dw): ConvBNReluLayer(\n",
      "        (conv): Conv2d(144, 144, kernel_size=(3, 3), stride=(2, 2), padding=(1, 1), groups=144)\n",
      "        (bn): BatchNorm2d(144, eps=1e-05, momentum=0.1, affine=True, track_running_stats=True)\n",
      "        (act): ReLU6()\n",
      "      )\n",
      "      (pw2): ConvBNReluLayer(\n",
      "        (conv): Conv2d(144, 32, kernel_size=(1, 1), stride=(1, 1))\n",
      "        (bn): BatchNorm2d(32, eps=1e-05, momentum=0.1, affine=True, track_running_stats=True)\n",
      "        (act): Sequential()\n",
      "      )\n",
      "    )\n",
      "    (4): InvertedBottleneckBlock(\n",
      "      (pw1): ConvBNReluLayer(\n",
      "        (conv): Conv2d(32, 192, kernel_size=(1, 1), stride=(1, 1))\n",
      "        (bn): BatchNorm2d(192, eps=1e-05, momentum=0.1, affine=True, track_running_stats=True)\n",
      "        (act): ReLU6()\n",
      "      )\n",
      "      (dw): ConvBNReluLayer(\n",
      "        (conv): Conv2d(192, 192, kernel_size=(3, 3), stride=(1, 1), padding=(1, 1), groups=192)\n",
      "        (bn): BatchNorm2d(192, eps=1e-05, momentum=0.1, affine=True, track_running_stats=True)\n",
      "        (act): ReLU6()\n",
      "      )\n",
      "      (pw2): ConvBNReluLayer(\n",
      "        (conv): Conv2d(192, 32, kernel_size=(1, 1), stride=(1, 1))\n",
      "        (bn): BatchNorm2d(32, eps=1e-05, momentum=0.1, affine=True, track_running_stats=True)\n",
      "        (act): Sequential()\n",
      "      )\n",
      "    )\n",
      "    (5): InvertedBottleneckBlock(\n",
      "      (pw1): ConvBNReluLayer(\n",
      "        (conv): Conv2d(32, 192, kernel_size=(1, 1), stride=(1, 1))\n",
      "        (bn): BatchNorm2d(192, eps=1e-05, momentum=0.1, affine=True, track_running_stats=True)\n",
      "        (act): ReLU6()\n",
      "      )\n",
      "      (dw): ConvBNReluLayer(\n",
      "        (conv): Conv2d(192, 192, kernel_size=(3, 3), stride=(1, 1), padding=(1, 1), groups=192)\n",
      "        (bn): BatchNorm2d(192, eps=1e-05, momentum=0.1, affine=True, track_running_stats=True)\n",
      "        (act): ReLU6()\n",
      "      )\n",
      "      (pw2): ConvBNReluLayer(\n",
      "        (conv): Conv2d(192, 32, kernel_size=(1, 1), stride=(1, 1))\n",
      "        (bn): BatchNorm2d(32, eps=1e-05, momentum=0.1, affine=True, track_running_stats=True)\n",
      "        (act): Sequential()\n",
      "      )\n",
      "    )\n",
      "    (6): InvertedBottleneckBlock(\n",
      "      (pw1): ConvBNReluLayer(\n",
      "        (conv): Conv2d(32, 192, kernel_size=(1, 1), stride=(1, 1))\n",
      "        (bn): BatchNorm2d(192, eps=1e-05, momentum=0.1, affine=True, track_running_stats=True)\n",
      "        (act): ReLU6()\n",
      "      )\n",
      "      (dw): ConvBNReluLayer(\n",
      "        (conv): Conv2d(192, 192, kernel_size=(3, 3), stride=(2, 2), padding=(1, 1), groups=192)\n",
      "        (bn): BatchNorm2d(192, eps=1e-05, momentum=0.1, affine=True, track_running_stats=True)\n",
      "        (act): ReLU6()\n",
      "      )\n",
      "      (pw2): ConvBNReluLayer(\n",
      "        (conv): Conv2d(192, 64, kernel_size=(1, 1), stride=(1, 1))\n",
      "        (bn): BatchNorm2d(64, eps=1e-05, momentum=0.1, affine=True, track_running_stats=True)\n",
      "        (act): Sequential()\n",
      "      )\n",
      "    )\n",
      "    (7): InvertedBottleneckBlock(\n",
      "      (pw1): ConvBNReluLayer(\n",
      "        (conv): Conv2d(64, 384, kernel_size=(1, 1), stride=(1, 1))\n",
      "        (bn): BatchNorm2d(384, eps=1e-05, momentum=0.1, affine=True, track_running_stats=True)\n",
      "        (act): ReLU6()\n",
      "      )\n",
      "      (dw): ConvBNReluLayer(\n",
      "        (conv): Conv2d(384, 384, kernel_size=(3, 3), stride=(1, 1), padding=(1, 1), groups=384)\n",
      "        (bn): BatchNorm2d(384, eps=1e-05, momentum=0.1, affine=True, track_running_stats=True)\n",
      "        (act): ReLU6()\n",
      "      )\n",
      "      (pw2): ConvBNReluLayer(\n",
      "        (conv): Conv2d(384, 64, kernel_size=(1, 1), stride=(1, 1))\n",
      "        (bn): BatchNorm2d(64, eps=1e-05, momentum=0.1, affine=True, track_running_stats=True)\n",
      "        (act): Sequential()\n",
      "      )\n",
      "    )\n",
      "    (8): InvertedBottleneckBlock(\n",
      "      (pw1): ConvBNReluLayer(\n",
      "        (conv): Conv2d(64, 384, kernel_size=(1, 1), stride=(1, 1))\n",
      "        (bn): BatchNorm2d(384, eps=1e-05, momentum=0.1, affine=True, track_running_stats=True)\n",
      "        (act): ReLU6()\n",
      "      )\n",
      "      (dw): ConvBNReluLayer(\n",
      "        (conv): Conv2d(384, 384, kernel_size=(3, 3), stride=(1, 1), padding=(1, 1), groups=384)\n",
      "        (bn): BatchNorm2d(384, eps=1e-05, momentum=0.1, affine=True, track_running_stats=True)\n",
      "        (act): ReLU6()\n",
      "      )\n",
      "      (pw2): ConvBNReluLayer(\n",
      "        (conv): Conv2d(384, 64, kernel_size=(1, 1), stride=(1, 1))\n",
      "        (bn): BatchNorm2d(64, eps=1e-05, momentum=0.1, affine=True, track_running_stats=True)\n",
      "        (act): Sequential()\n",
      "      )\n",
      "    )\n",
      "    (9): InvertedBottleneckBlock(\n",
      "      (pw1): ConvBNReluLayer(\n",
      "        (conv): Conv2d(64, 384, kernel_size=(1, 1), stride=(1, 1))\n",
      "        (bn): BatchNorm2d(384, eps=1e-05, momentum=0.1, affine=True, track_running_stats=True)\n",
      "        (act): ReLU6()\n",
      "      )\n",
      "      (dw): ConvBNReluLayer(\n",
      "        (conv): Conv2d(384, 384, kernel_size=(3, 3), stride=(1, 1), padding=(1, 1), groups=384)\n",
      "        (bn): BatchNorm2d(384, eps=1e-05, momentum=0.1, affine=True, track_running_stats=True)\n",
      "        (act): ReLU6()\n",
      "      )\n",
      "      (pw2): ConvBNReluLayer(\n",
      "        (conv): Conv2d(384, 64, kernel_size=(1, 1), stride=(1, 1))\n",
      "        (bn): BatchNorm2d(64, eps=1e-05, momentum=0.1, affine=True, track_running_stats=True)\n",
      "        (act): Sequential()\n",
      "      )\n",
      "    )\n",
      "    (10): InvertedBottleneckBlock(\n",
      "      (pw1): ConvBNReluLayer(\n",
      "        (conv): Conv2d(64, 384, kernel_size=(1, 1), stride=(1, 1))\n",
      "        (bn): BatchNorm2d(384, eps=1e-05, momentum=0.1, affine=True, track_running_stats=True)\n",
      "        (act): ReLU6()\n",
      "      )\n",
      "      (dw): ConvBNReluLayer(\n",
      "        (conv): Conv2d(384, 384, kernel_size=(3, 3), stride=(1, 1), padding=(1, 1), groups=384)\n",
      "        (bn): BatchNorm2d(384, eps=1e-05, momentum=0.1, affine=True, track_running_stats=True)\n",
      "        (act): ReLU6()\n",
      "      )\n",
      "      (pw2): ConvBNReluLayer(\n",
      "        (conv): Conv2d(384, 96, kernel_size=(1, 1), stride=(1, 1))\n",
      "        (bn): BatchNorm2d(96, eps=1e-05, momentum=0.1, affine=True, track_running_stats=True)\n",
      "        (act): Sequential()\n",
      "      )\n",
      "    )\n",
      "    (11): InvertedBottleneckBlock(\n",
      "      (pw1): ConvBNReluLayer(\n",
      "        (conv): Conv2d(96, 576, kernel_size=(1, 1), stride=(1, 1))\n",
      "        (bn): BatchNorm2d(576, eps=1e-05, momentum=0.1, affine=True, track_running_stats=True)\n",
      "        (act): ReLU6()\n",
      "      )\n",
      "      (dw): ConvBNReluLayer(\n",
      "        (conv): Conv2d(576, 576, kernel_size=(3, 3), stride=(1, 1), padding=(1, 1), groups=576)\n",
      "        (bn): BatchNorm2d(576, eps=1e-05, momentum=0.1, affine=True, track_running_stats=True)\n",
      "        (act): ReLU6()\n",
      "      )\n",
      "      (pw2): ConvBNReluLayer(\n",
      "        (conv): Conv2d(576, 96, kernel_size=(1, 1), stride=(1, 1))\n",
      "        (bn): BatchNorm2d(96, eps=1e-05, momentum=0.1, affine=True, track_running_stats=True)\n",
      "        (act): Sequential()\n",
      "      )\n",
      "    )\n",
      "    (12): InvertedBottleneckBlock(\n",
      "      (pw1): ConvBNReluLayer(\n",
      "        (conv): Conv2d(96, 576, kernel_size=(1, 1), stride=(1, 1))\n",
      "        (bn): BatchNorm2d(576, eps=1e-05, momentum=0.1, affine=True, track_running_stats=True)\n",
      "        (act): ReLU6()\n",
      "      )\n",
      "      (dw): ConvBNReluLayer(\n",
      "        (conv): Conv2d(576, 576, kernel_size=(3, 3), stride=(1, 1), padding=(1, 1), groups=576)\n",
      "        (bn): BatchNorm2d(576, eps=1e-05, momentum=0.1, affine=True, track_running_stats=True)\n",
      "        (act): ReLU6()\n",
      "      )\n",
      "      (pw2): ConvBNReluLayer(\n",
      "        (conv): Conv2d(576, 96, kernel_size=(1, 1), stride=(1, 1))\n",
      "        (bn): BatchNorm2d(96, eps=1e-05, momentum=0.1, affine=True, track_running_stats=True)\n",
      "        (act): Sequential()\n",
      "      )\n",
      "    )\n",
      "    (13): InvertedBottleneckBlock(\n",
      "      (pw1): ConvBNReluLayer(\n",
      "        (conv): Conv2d(96, 576, kernel_size=(1, 1), stride=(1, 1))\n",
      "        (bn): BatchNorm2d(576, eps=1e-05, momentum=0.1, affine=True, track_running_stats=True)\n",
      "        (act): ReLU6()\n",
      "      )\n",
      "      (dw): ConvBNReluLayer(\n",
      "        (conv): Conv2d(576, 576, kernel_size=(3, 3), stride=(2, 2), padding=(1, 1), groups=576)\n",
      "        (bn): BatchNorm2d(576, eps=1e-05, momentum=0.1, affine=True, track_running_stats=True)\n",
      "        (act): ReLU6()\n",
      "      )\n",
      "      (pw2): ConvBNReluLayer(\n",
      "        (conv): Conv2d(576, 160, kernel_size=(1, 1), stride=(1, 1))\n",
      "        (bn): BatchNorm2d(160, eps=1e-05, momentum=0.1, affine=True, track_running_stats=True)\n",
      "        (act): Sequential()\n",
      "      )\n",
      "    )\n",
      "    (14): InvertedBottleneckBlock(\n",
      "      (pw1): ConvBNReluLayer(\n",
      "        (conv): Conv2d(160, 960, kernel_size=(1, 1), stride=(1, 1))\n",
      "        (bn): BatchNorm2d(960, eps=1e-05, momentum=0.1, affine=True, track_running_stats=True)\n",
      "        (act): ReLU6()\n",
      "      )\n",
      "      (dw): ConvBNReluLayer(\n",
      "        (conv): Conv2d(960, 960, kernel_size=(3, 3), stride=(1, 1), padding=(1, 1), groups=960)\n",
      "        (bn): BatchNorm2d(960, eps=1e-05, momentum=0.1, affine=True, track_running_stats=True)\n",
      "        (act): ReLU6()\n",
      "      )\n",
      "      (pw2): ConvBNReluLayer(\n",
      "        (conv): Conv2d(960, 320, kernel_size=(1, 1), stride=(1, 1))\n",
      "        (bn): BatchNorm2d(320, eps=1e-05, momentum=0.1, affine=True, track_running_stats=True)\n",
      "        (act): Sequential()\n",
      "      )\n",
      "    )\n",
      "  )\n",
      "  (conv2): ConvBNReluLayer(\n",
      "    (conv): Conv2d(320, 1280, kernel_size=(1, 1), stride=(1, 1))\n",
      "    (bn): BatchNorm2d(1280, eps=1e-05, momentum=0.1, affine=True, track_running_stats=True)\n",
      "    (act): ReLU6()\n",
      "  )\n",
      "  (classifier): Sequential(\n",
      "    (0): AdaptiveAvgPool2d(output_size=1)\n",
      "    (1): Flatten(start_dim=1, end_dim=-1)\n",
      "    (2): Dropout(p=0.2, inplace=False)\n",
      "    (3): Linear(in_features=1280, out_features=10, bias=True)\n",
      "  )\n",
      ")\n"
     ]
    }
   ],
   "source": [
    "model = MobileNetV2(in_channels=3, classes=10, classifier_drop=0.2)\n",
    "print(model)\n",
    "\n",
    "model2 = MobileNetV2(in_channels=3, classes=10, classifier_drop=0.2)\n",
    "model2.classifier = MobileNetV2ConvClassifier(in_channels=1280, classes=10)"
   ],
   "metadata": {
    "collapsed": false,
    "pycharm": {
     "name": "#%%\n"
    }
   }
  },
  {
   "cell_type": "code",
   "execution_count": 4,
   "outputs": [
    {
     "name": "stdout",
     "output_type": "stream",
     "text": [
      "torch.Size([1, 10]) torch.Size([1, 10])\n"
     ]
    }
   ],
   "source": [
    "test_in = torch.rand(1, 3, 224, 224)\n",
    "print(model(test_in).shape, model2(test_in).shape)\n"
   ],
   "metadata": {
    "collapsed": false,
    "pycharm": {
     "name": "#%%\n"
    }
   }
  },
  {
   "cell_type": "code",
   "execution_count": 5,
   "outputs": [],
   "source": [
    "train_params = {\n",
    "    'epochs': 16,\n",
    "    'lr': 0.1,\n",
    "    'eval_portion': 0.2,\n",
    "    'batch_size': 16\n",
    "}\n",
    "\n",
    "device = torch.device('cuda')"
   ],
   "metadata": {
    "collapsed": false,
    "pycharm": {
     "name": "#%%\n"
    }
   }
  },
  {
   "cell_type": "code",
   "execution_count": 6,
   "outputs": [],
   "source": [
    "from torch.utils.data import DataLoader, random_split\n",
    "\n",
    "EVAL_LENGTH = int(len(dataset1) * train_params['eval_portion'])\n",
    "\n",
    "train_set, eval_set = random_split(dataset1, [len(dataset1) - EVAL_LENGTH, EVAL_LENGTH])\n",
    "train_loader = DataLoader(train_set, batch_size=train_params['batch_size'],\n",
    "                          shuffle=True)\n",
    "\n",
    "eval_loader = DataLoader(eval_set, batch_size=train_params['batch_size'])\n",
    "\n",
    "test_loader = DataLoader(dataset2, batch_size=train_params['batch_size'],\n",
    "                         shuffle=True)\n"
   ],
   "metadata": {
    "collapsed": false,
    "pycharm": {
     "name": "#%%\n"
    }
   }
  },
  {
   "cell_type": "code",
   "execution_count": 7,
   "outputs": [
    {
     "name": "stderr",
     "output_type": "stream",
     "text": [
      "Training...: 100%|██████████| 2500/2500 [03:25<00:00, 12.17it/s]\n"
     ]
    },
    {
     "name": "stdout",
     "output_type": "stream",
     "text": [
      "Training average loss: 1.9148017606019974\n"
     ]
    },
    {
     "name": "stderr",
     "output_type": "stream",
     "text": [
      "Eval...: 100%|██████████| 625/625 [00:22<00:00, 28.11it/s]\n"
     ]
    },
    {
     "name": "stdout",
     "output_type": "stream",
     "text": [
      "Epoch: 1, eval accuracy 0.4117, eval loss 1.6088141534805298\n"
     ]
    },
    {
     "name": "stderr",
     "output_type": "stream",
     "text": [
      "Training...: 100%|██████████| 2500/2500 [03:39<00:00, 11.39it/s]\n"
     ]
    },
    {
     "name": "stdout",
     "output_type": "stream",
     "text": [
      "Training average loss: 1.4670280815839767\n"
     ]
    },
    {
     "name": "stderr",
     "output_type": "stream",
     "text": [
      "Eval...: 100%|██████████| 625/625 [00:25<00:00, 24.45it/s]\n"
     ]
    },
    {
     "name": "stdout",
     "output_type": "stream",
     "text": [
      "Epoch: 2, eval accuracy 0.548, eval loss 1.2505039511680602\n"
     ]
    },
    {
     "name": "stderr",
     "output_type": "stream",
     "text": [
      "Training...:   4%|▍         | 110/2500 [00:10<03:41, 10.79it/s]\n",
      "\n",
      "KeyboardInterrupt\n",
      "\n"
     ]
    }
   ],
   "source": [
    "model = model.to(device)\n",
    "\n",
    "optimizer = torch.optim.SGD(model.parameters(), lr=train_params['lr'], momentum=0.9, weight_decay=1e-5)\n",
    "scheduler = torch.optim.lr_scheduler.ExponentialLR(optimizer=optimizer, gamma=0.9)\n",
    "\n",
    "cross_entropy = nn.CrossEntropyLoss()\n",
    "\n",
    "best_accuracy = 0.0\n",
    "\n",
    "for e in range(train_params['epochs']):\n",
    "    train_loss = 0.0\n",
    "    model.train()\n",
    "    for images, labels in tqdm(iter(train_loader), desc='Training...'):\n",
    "        optimizer.zero_grad()\n",
    "\n",
    "        images = images.to(device)\n",
    "        labels = labels.to(device)\n",
    "\n",
    "        outputs = model(images)\n",
    "        loss = cross_entropy(outputs, labels)\n",
    "        train_loss += loss.cpu().detach().numpy()\n",
    "\n",
    "        loss.backward()\n",
    "        optimizer.step()\n",
    "\n",
    "    print(f\"Training average loss: {train_loss / len(train_loader)}\")\n",
    "\n",
    "    test_acc_count = 0.0\n",
    "    eval_loss = 0.0\n",
    "\n",
    "    model.eval()\n",
    "    with torch.no_grad():\n",
    "        for images, labels in tqdm(iter(eval_loader), desc='Eval...'):\n",
    "            images = images.to(device)\n",
    "            labels = labels.to(device)\n",
    "\n",
    "            outputs = model(images)\n",
    "\n",
    "            loss = cross_entropy(outputs, labels)\n",
    "            eval_loss += loss.cpu().detach().numpy()\n",
    "\n",
    "            pred = torch.argmax(outputs, 1)\n",
    "            test_acc_count += float(torch.sum(pred == labels))\n",
    "\n",
    "    test_accuracy = float(test_acc_count) / float(len(eval_set))\n",
    "    eval_loss /= len(eval_loader)\n",
    "\n",
    "    print(f'Epoch: {e + 1}, eval accuracy {test_accuracy}, eval loss {eval_loss}')\n",
    "    if test_accuracy > best_accuracy:\n",
    "        torch.save(model.state_dict(), 'checkpoints/model.pth')\n",
    "        best_accuracy = test_accuracyf"
   ],
   "metadata": {
    "collapsed": false,
    "pycharm": {
     "name": "#%%\n"
    }
   }
  }
 ],
 "metadata": {
  "kernelspec": {
   "display_name": "Python 3",
   "language": "python",
   "name": "python3"
  },
  "language_info": {
   "codemirror_mode": {
    "name": "ipython",
    "version": 2
   },
   "file_extension": ".py",
   "mimetype": "text/x-python",
   "name": "python",
   "nbconvert_exporter": "python",
   "pygments_lexer": "ipython2",
   "version": "2.7.6"
  }
 },
 "nbformat": 4,
 "nbformat_minor": 0
}