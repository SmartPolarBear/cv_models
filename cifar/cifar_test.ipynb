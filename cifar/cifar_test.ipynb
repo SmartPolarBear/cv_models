{
 "cells": [
  {
   "cell_type": "code",
   "execution_count": 1,
   "metadata": {
    "collapsed": true,
    "pycharm": {
     "name": "#%%\n"
    }
   },
   "outputs": [],
   "source": [
    "import torchvision\n",
    "import torch\n",
    "import torch.nn as nn\n",
    "\n",
    "from torchvision import transforms\n",
    "\n",
    "from tqdm import tqdm\n",
    "\n",
    "from convnext.model.convnext import ConvNeXT, ConvNeXTConfig"
   ]
  },
  {
   "cell_type": "code",
   "execution_count": 2,
   "outputs": [
    {
     "name": "stdout",
     "output_type": "stream",
     "text": [
      "ConvNeXT(\n",
      "  (downsamples): ModuleList(\n",
      "    (0): Sequential(\n",
      "      (0): Conv2d(3, 96, kernel_size=(4, 4), stride=(4, 4))\n",
      "      (1): LayerNorm()\n",
      "    )\n",
      "    (1): DownsampleBlock(\n",
      "      (ln): LayerNorm()\n",
      "      (conv): Conv2d(96, 192, kernel_size=(2, 2), stride=(2, 2))\n",
      "    )\n",
      "    (2): DownsampleBlock(\n",
      "      (ln): LayerNorm()\n",
      "      (conv): Conv2d(192, 384, kernel_size=(2, 2), stride=(2, 2))\n",
      "    )\n",
      "    (3): DownsampleBlock(\n",
      "      (ln): LayerNorm()\n",
      "      (conv): Conv2d(384, 768, kernel_size=(2, 2), stride=(2, 2))\n",
      "    )\n",
      "  )\n",
      "  (stages): ModuleList(\n",
      "    (0): Sequential(\n",
      "      (0): ConvNeXTBlock(\n",
      "        (dw): Conv2d(96, 96, kernel_size=(7, 7), stride=(1, 1), padding=(3, 3), groups=96)\n",
      "        (ln): LayerNorm()\n",
      "        (pw1): Linear(in_features=96, out_features=384, bias=True)\n",
      "        (gelu): GELU(approximate=none)\n",
      "        (pw2): Linear(in_features=384, out_features=96, bias=True)\n",
      "        (drop_path): DropPath()\n",
      "      )\n",
      "      (1): ConvNeXTBlock(\n",
      "        (dw): Conv2d(96, 96, kernel_size=(7, 7), stride=(1, 1), padding=(3, 3), groups=96)\n",
      "        (ln): LayerNorm()\n",
      "        (pw1): Linear(in_features=96, out_features=384, bias=True)\n",
      "        (gelu): GELU(approximate=none)\n",
      "        (pw2): Linear(in_features=384, out_features=96, bias=True)\n",
      "        (drop_path): DropPath()\n",
      "      )\n",
      "      (2): ConvNeXTBlock(\n",
      "        (dw): Conv2d(96, 96, kernel_size=(7, 7), stride=(1, 1), padding=(3, 3), groups=96)\n",
      "        (ln): LayerNorm()\n",
      "        (pw1): Linear(in_features=96, out_features=384, bias=True)\n",
      "        (gelu): GELU(approximate=none)\n",
      "        (pw2): Linear(in_features=384, out_features=96, bias=True)\n",
      "        (drop_path): DropPath()\n",
      "      )\n",
      "    )\n",
      "    (1): Sequential(\n",
      "      (0): ConvNeXTBlock(\n",
      "        (dw): Conv2d(192, 192, kernel_size=(7, 7), stride=(1, 1), padding=(3, 3), groups=192)\n",
      "        (ln): LayerNorm()\n",
      "        (pw1): Linear(in_features=192, out_features=768, bias=True)\n",
      "        (gelu): GELU(approximate=none)\n",
      "        (pw2): Linear(in_features=768, out_features=192, bias=True)\n",
      "        (drop_path): DropPath()\n",
      "      )\n",
      "      (1): ConvNeXTBlock(\n",
      "        (dw): Conv2d(192, 192, kernel_size=(7, 7), stride=(1, 1), padding=(3, 3), groups=192)\n",
      "        (ln): LayerNorm()\n",
      "        (pw1): Linear(in_features=192, out_features=768, bias=True)\n",
      "        (gelu): GELU(approximate=none)\n",
      "        (pw2): Linear(in_features=768, out_features=192, bias=True)\n",
      "        (drop_path): DropPath()\n",
      "      )\n",
      "      (2): ConvNeXTBlock(\n",
      "        (dw): Conv2d(192, 192, kernel_size=(7, 7), stride=(1, 1), padding=(3, 3), groups=192)\n",
      "        (ln): LayerNorm()\n",
      "        (pw1): Linear(in_features=192, out_features=768, bias=True)\n",
      "        (gelu): GELU(approximate=none)\n",
      "        (pw2): Linear(in_features=768, out_features=192, bias=True)\n",
      "        (drop_path): DropPath()\n",
      "      )\n",
      "    )\n",
      "    (2): Sequential(\n",
      "      (0): ConvNeXTBlock(\n",
      "        (dw): Conv2d(384, 384, kernel_size=(7, 7), stride=(1, 1), padding=(3, 3), groups=384)\n",
      "        (ln): LayerNorm()\n",
      "        (pw1): Linear(in_features=384, out_features=1536, bias=True)\n",
      "        (gelu): GELU(approximate=none)\n",
      "        (pw2): Linear(in_features=1536, out_features=384, bias=True)\n",
      "        (drop_path): DropPath()\n",
      "      )\n",
      "      (1): ConvNeXTBlock(\n",
      "        (dw): Conv2d(384, 384, kernel_size=(7, 7), stride=(1, 1), padding=(3, 3), groups=384)\n",
      "        (ln): LayerNorm()\n",
      "        (pw1): Linear(in_features=384, out_features=1536, bias=True)\n",
      "        (gelu): GELU(approximate=none)\n",
      "        (pw2): Linear(in_features=1536, out_features=384, bias=True)\n",
      "        (drop_path): DropPath()\n",
      "      )\n",
      "      (2): ConvNeXTBlock(\n",
      "        (dw): Conv2d(384, 384, kernel_size=(7, 7), stride=(1, 1), padding=(3, 3), groups=384)\n",
      "        (ln): LayerNorm()\n",
      "        (pw1): Linear(in_features=384, out_features=1536, bias=True)\n",
      "        (gelu): GELU(approximate=none)\n",
      "        (pw2): Linear(in_features=1536, out_features=384, bias=True)\n",
      "        (drop_path): DropPath()\n",
      "      )\n",
      "      (3): ConvNeXTBlock(\n",
      "        (dw): Conv2d(384, 384, kernel_size=(7, 7), stride=(1, 1), padding=(3, 3), groups=384)\n",
      "        (ln): LayerNorm()\n",
      "        (pw1): Linear(in_features=384, out_features=1536, bias=True)\n",
      "        (gelu): GELU(approximate=none)\n",
      "        (pw2): Linear(in_features=1536, out_features=384, bias=True)\n",
      "        (drop_path): DropPath()\n",
      "      )\n",
      "      (4): ConvNeXTBlock(\n",
      "        (dw): Conv2d(384, 384, kernel_size=(7, 7), stride=(1, 1), padding=(3, 3), groups=384)\n",
      "        (ln): LayerNorm()\n",
      "        (pw1): Linear(in_features=384, out_features=1536, bias=True)\n",
      "        (gelu): GELU(approximate=none)\n",
      "        (pw2): Linear(in_features=1536, out_features=384, bias=True)\n",
      "        (drop_path): DropPath()\n",
      "      )\n",
      "      (5): ConvNeXTBlock(\n",
      "        (dw): Conv2d(384, 384, kernel_size=(7, 7), stride=(1, 1), padding=(3, 3), groups=384)\n",
      "        (ln): LayerNorm()\n",
      "        (pw1): Linear(in_features=384, out_features=1536, bias=True)\n",
      "        (gelu): GELU(approximate=none)\n",
      "        (pw2): Linear(in_features=1536, out_features=384, bias=True)\n",
      "        (drop_path): DropPath()\n",
      "      )\n",
      "      (6): ConvNeXTBlock(\n",
      "        (dw): Conv2d(384, 384, kernel_size=(7, 7), stride=(1, 1), padding=(3, 3), groups=384)\n",
      "        (ln): LayerNorm()\n",
      "        (pw1): Linear(in_features=384, out_features=1536, bias=True)\n",
      "        (gelu): GELU(approximate=none)\n",
      "        (pw2): Linear(in_features=1536, out_features=384, bias=True)\n",
      "        (drop_path): DropPath()\n",
      "      )\n",
      "      (7): ConvNeXTBlock(\n",
      "        (dw): Conv2d(384, 384, kernel_size=(7, 7), stride=(1, 1), padding=(3, 3), groups=384)\n",
      "        (ln): LayerNorm()\n",
      "        (pw1): Linear(in_features=384, out_features=1536, bias=True)\n",
      "        (gelu): GELU(approximate=none)\n",
      "        (pw2): Linear(in_features=1536, out_features=384, bias=True)\n",
      "        (drop_path): DropPath()\n",
      "      )\n",
      "      (8): ConvNeXTBlock(\n",
      "        (dw): Conv2d(384, 384, kernel_size=(7, 7), stride=(1, 1), padding=(3, 3), groups=384)\n",
      "        (ln): LayerNorm()\n",
      "        (pw1): Linear(in_features=384, out_features=1536, bias=True)\n",
      "        (gelu): GELU(approximate=none)\n",
      "        (pw2): Linear(in_features=1536, out_features=384, bias=True)\n",
      "        (drop_path): DropPath()\n",
      "      )\n",
      "    )\n",
      "    (3): Sequential(\n",
      "      (0): ConvNeXTBlock(\n",
      "        (dw): Conv2d(768, 768, kernel_size=(7, 7), stride=(1, 1), padding=(3, 3), groups=768)\n",
      "        (ln): LayerNorm()\n",
      "        (pw1): Linear(in_features=768, out_features=3072, bias=True)\n",
      "        (gelu): GELU(approximate=none)\n",
      "        (pw2): Linear(in_features=3072, out_features=768, bias=True)\n",
      "        (drop_path): DropPath()\n",
      "      )\n",
      "      (1): ConvNeXTBlock(\n",
      "        (dw): Conv2d(768, 768, kernel_size=(7, 7), stride=(1, 1), padding=(3, 3), groups=768)\n",
      "        (ln): LayerNorm()\n",
      "        (pw1): Linear(in_features=768, out_features=3072, bias=True)\n",
      "        (gelu): GELU(approximate=none)\n",
      "        (pw2): Linear(in_features=3072, out_features=768, bias=True)\n",
      "        (drop_path): DropPath()\n",
      "      )\n",
      "      (2): ConvNeXTBlock(\n",
      "        (dw): Conv2d(768, 768, kernel_size=(7, 7), stride=(1, 1), padding=(3, 3), groups=768)\n",
      "        (ln): LayerNorm()\n",
      "        (pw1): Linear(in_features=768, out_features=3072, bias=True)\n",
      "        (gelu): GELU(approximate=none)\n",
      "        (pw2): Linear(in_features=3072, out_features=768, bias=True)\n",
      "        (drop_path): DropPath()\n",
      "      )\n",
      "    )\n",
      "  )\n",
      "  (classifier): Sequential(\n",
      "    (0): AdaptiveAvgPool2d(output_size=1)\n",
      "    (1): LayerNorm()\n",
      "    (2): Flatten(start_dim=1, end_dim=-1)\n",
      "    (3): Linear(in_features=768, out_features=10, bias=True)\n",
      "  )\n",
      ")\n"
     ]
    }
   ],
   "source": [
    "model = ConvNeXT(in_channels=3, num_classes=10, conf=ConvNeXTConfig.T)\n",
    "print(model)"
   ],
   "metadata": {
    "collapsed": false,
    "pycharm": {
     "name": "#%%\n"
    }
   }
  },
  {
   "cell_type": "code",
   "execution_count": 3,
   "outputs": [
    {
     "name": "stdout",
     "output_type": "stream",
     "text": [
      "torch.Size([1, 10])\n"
     ]
    }
   ],
   "source": [
    "test_in = torch.rand(1, 3, 224, 224)\n",
    "print(model(test_in).shape)"
   ],
   "metadata": {
    "collapsed": false,
    "pycharm": {
     "name": "#%%\n"
    }
   }
  },
  {
   "cell_type": "code",
   "execution_count": 4,
   "outputs": [
    {
     "name": "stdout",
     "output_type": "stream",
     "text": [
      "Files already downloaded and verified\n",
      "Files already downloaded and verified\n"
     ]
    }
   ],
   "source": [
    "transform = transforms.Compose([\n",
    "    transforms.Resize(224),\n",
    "    transforms.ToTensor(),\n",
    "    transforms.Normalize((0.1307,), (0.3081,))\n",
    "])\n",
    "dataset1 = torchvision.datasets.CIFAR10('./data', train=True, download=True,\n",
    "                                        transform=transform)\n",
    "dataset2 = torchvision.datasets.CIFAR10('./data', train=False, download=True,\n",
    "                                        transform=transform)"
   ],
   "metadata": {
    "collapsed": false,
    "pycharm": {
     "name": "#%%\n"
    }
   }
  },
  {
   "cell_type": "code",
   "execution_count": 5,
   "outputs": [],
   "source": [
    "train_params = {\n",
    "    'epochs': 16,\n",
    "    'lr': 0.1,\n",
    "    'eval_portion': 0.2,\n",
    "    'batch_size': 16\n",
    "}\n",
    "\n",
    "device = torch.device('cuda')"
   ],
   "metadata": {
    "collapsed": false,
    "pycharm": {
     "name": "#%%\n"
    }
   }
  },
  {
   "cell_type": "code",
   "execution_count": 6,
   "outputs": [],
   "source": [
    "from torch.utils.data import DataLoader, random_split\n",
    "\n",
    "EVAL_LENGTH = int(len(dataset1) * train_params['eval_portion'])\n",
    "\n",
    "train_set, eval_set = random_split(dataset1, [len(dataset1) - EVAL_LENGTH, EVAL_LENGTH])\n",
    "train_loader = DataLoader(train_set, batch_size=train_params['batch_size'],\n",
    "                          shuffle=True)\n",
    "\n",
    "eval_loader = DataLoader(eval_set, batch_size=train_params['batch_size'])\n",
    "\n",
    "test_loader = DataLoader(dataset2, batch_size=train_params['batch_size'],\n",
    "                         shuffle=True)\n"
   ],
   "metadata": {
    "collapsed": false,
    "pycharm": {
     "name": "#%%\n"
    }
   }
  },
  {
   "cell_type": "code",
   "execution_count": 7,
   "outputs": [
    {
     "name": "stderr",
     "output_type": "stream",
     "text": [
      "Training...:   2%|▏         | 48/2500 [00:12<10:59,  3.72it/s] \n"
     ]
    },
    {
     "ename": "KeyboardInterrupt",
     "evalue": "",
     "output_type": "error",
     "traceback": [
      "\u001B[1;31m---------------------------------------------------------------------------\u001B[0m",
      "\u001B[1;31mKeyboardInterrupt\u001B[0m                         Traceback (most recent call last)",
      "Input \u001B[1;32mIn [7]\u001B[0m, in \u001B[0;36m<cell line: 10>\u001B[1;34m()\u001B[0m\n\u001B[0;32m     20\u001B[0m     loss \u001B[38;5;241m=\u001B[39m cross_entropy(outputs, labels)\n\u001B[0;32m     21\u001B[0m     train_loss \u001B[38;5;241m+\u001B[39m\u001B[38;5;241m=\u001B[39m loss\u001B[38;5;241m.\u001B[39mcpu()\u001B[38;5;241m.\u001B[39mdetach()\u001B[38;5;241m.\u001B[39mnumpy()\n\u001B[1;32m---> 23\u001B[0m     \u001B[43mloss\u001B[49m\u001B[38;5;241;43m.\u001B[39;49m\u001B[43mbackward\u001B[49m\u001B[43m(\u001B[49m\u001B[43m)\u001B[49m\n\u001B[0;32m     24\u001B[0m     optimizer\u001B[38;5;241m.\u001B[39mstep()\n\u001B[0;32m     26\u001B[0m \u001B[38;5;28mprint\u001B[39m(\u001B[38;5;124mf\u001B[39m\u001B[38;5;124m\"\u001B[39m\u001B[38;5;124mTraining average loss: \u001B[39m\u001B[38;5;132;01m{\u001B[39;00mtrain_loss \u001B[38;5;241m/\u001B[39m \u001B[38;5;28mlen\u001B[39m(train_loader)\u001B[38;5;132;01m}\u001B[39;00m\u001B[38;5;124m\"\u001B[39m)\n",
      "File \u001B[1;32m~\\miniconda3\\envs\\pytorch\\lib\\site-packages\\torch\\_tensor.py:396\u001B[0m, in \u001B[0;36mTensor.backward\u001B[1;34m(self, gradient, retain_graph, create_graph, inputs)\u001B[0m\n\u001B[0;32m    387\u001B[0m \u001B[38;5;28;01mif\u001B[39;00m has_torch_function_unary(\u001B[38;5;28mself\u001B[39m):\n\u001B[0;32m    388\u001B[0m     \u001B[38;5;28;01mreturn\u001B[39;00m handle_torch_function(\n\u001B[0;32m    389\u001B[0m         Tensor\u001B[38;5;241m.\u001B[39mbackward,\n\u001B[0;32m    390\u001B[0m         (\u001B[38;5;28mself\u001B[39m,),\n\u001B[1;32m   (...)\u001B[0m\n\u001B[0;32m    394\u001B[0m         create_graph\u001B[38;5;241m=\u001B[39mcreate_graph,\n\u001B[0;32m    395\u001B[0m         inputs\u001B[38;5;241m=\u001B[39minputs)\n\u001B[1;32m--> 396\u001B[0m \u001B[43mtorch\u001B[49m\u001B[38;5;241;43m.\u001B[39;49m\u001B[43mautograd\u001B[49m\u001B[38;5;241;43m.\u001B[39;49m\u001B[43mbackward\u001B[49m\u001B[43m(\u001B[49m\u001B[38;5;28;43mself\u001B[39;49m\u001B[43m,\u001B[49m\u001B[43m \u001B[49m\u001B[43mgradient\u001B[49m\u001B[43m,\u001B[49m\u001B[43m \u001B[49m\u001B[43mretain_graph\u001B[49m\u001B[43m,\u001B[49m\u001B[43m \u001B[49m\u001B[43mcreate_graph\u001B[49m\u001B[43m,\u001B[49m\u001B[43m \u001B[49m\u001B[43minputs\u001B[49m\u001B[38;5;241;43m=\u001B[39;49m\u001B[43minputs\u001B[49m\u001B[43m)\u001B[49m\n",
      "File \u001B[1;32m~\\miniconda3\\envs\\pytorch\\lib\\site-packages\\torch\\autograd\\__init__.py:173\u001B[0m, in \u001B[0;36mbackward\u001B[1;34m(tensors, grad_tensors, retain_graph, create_graph, grad_variables, inputs)\u001B[0m\n\u001B[0;32m    168\u001B[0m     retain_graph \u001B[38;5;241m=\u001B[39m create_graph\n\u001B[0;32m    170\u001B[0m \u001B[38;5;66;03m# The reason we repeat same the comment below is that\u001B[39;00m\n\u001B[0;32m    171\u001B[0m \u001B[38;5;66;03m# some Python versions print out the first line of a multi-line function\u001B[39;00m\n\u001B[0;32m    172\u001B[0m \u001B[38;5;66;03m# calls in the traceback and some print out the last line\u001B[39;00m\n\u001B[1;32m--> 173\u001B[0m \u001B[43mVariable\u001B[49m\u001B[38;5;241;43m.\u001B[39;49m\u001B[43m_execution_engine\u001B[49m\u001B[38;5;241;43m.\u001B[39;49m\u001B[43mrun_backward\u001B[49m\u001B[43m(\u001B[49m\u001B[43m  \u001B[49m\u001B[38;5;66;43;03m# Calls into the C++ engine to run the backward pass\u001B[39;49;00m\n\u001B[0;32m    174\u001B[0m \u001B[43m    \u001B[49m\u001B[43mtensors\u001B[49m\u001B[43m,\u001B[49m\u001B[43m \u001B[49m\u001B[43mgrad_tensors_\u001B[49m\u001B[43m,\u001B[49m\u001B[43m \u001B[49m\u001B[43mretain_graph\u001B[49m\u001B[43m,\u001B[49m\u001B[43m \u001B[49m\u001B[43mcreate_graph\u001B[49m\u001B[43m,\u001B[49m\u001B[43m \u001B[49m\u001B[43minputs\u001B[49m\u001B[43m,\u001B[49m\n\u001B[0;32m    175\u001B[0m \u001B[43m    \u001B[49m\u001B[43mallow_unreachable\u001B[49m\u001B[38;5;241;43m=\u001B[39;49m\u001B[38;5;28;43;01mTrue\u001B[39;49;00m\u001B[43m,\u001B[49m\u001B[43m \u001B[49m\u001B[43maccumulate_grad\u001B[49m\u001B[38;5;241;43m=\u001B[39;49m\u001B[38;5;28;43;01mTrue\u001B[39;49;00m\u001B[43m)\u001B[49m\n",
      "\u001B[1;31mKeyboardInterrupt\u001B[0m: "
     ]
    }
   ],
   "source": [
    "model = model.to(device)\n",
    "\n",
    "optimizer = torch.optim.SGD(model.parameters(), lr=train_params['lr'], momentum=0.9, weight_decay=1e-5)\n",
    "scheduler = torch.optim.lr_scheduler.ExponentialLR(optimizer=optimizer, gamma=0.9)\n",
    "\n",
    "cross_entropy = nn.CrossEntropyLoss()\n",
    "\n",
    "best_accuracy = 0.0\n",
    "\n",
    "for e in range(train_params['epochs']):\n",
    "    train_loss = 0.0\n",
    "    model.train()\n",
    "    for images, labels in tqdm(iter(train_loader), desc='Training...'):\n",
    "        optimizer.zero_grad()\n",
    "\n",
    "        images = images.to(device)\n",
    "        labels = labels.to(device)\n",
    "\n",
    "        outputs = model(images)\n",
    "        loss = cross_entropy(outputs, labels)\n",
    "        train_loss += loss.cpu().detach().numpy()\n",
    "\n",
    "        loss.backward()\n",
    "        optimizer.step()\n",
    "\n",
    "    print(f\"Training average loss: {train_loss / len(train_loader)}\")\n",
    "\n",
    "    test_acc_count = 0.0\n",
    "    eval_loss = 0.0\n",
    "\n",
    "    model.eval()\n",
    "    with torch.no_grad():\n",
    "        for images, labels in tqdm(iter(eval_loader), desc='Eval...'):\n",
    "            images = images.to(device)\n",
    "            labels = labels.to(device)\n",
    "\n",
    "            outputs = model(images)\n",
    "\n",
    "            loss = cross_entropy(outputs, labels)\n",
    "            eval_loss += loss.cpu().detach().numpy()\n",
    "\n",
    "            pred = torch.argmax(outputs, 1)\n",
    "            test_acc_count += float(torch.sum(pred == labels))\n",
    "\n",
    "    test_accuracy = float(test_acc_count) / float(len(eval_set))\n",
    "    eval_loss /= len(eval_loader)\n",
    "\n",
    "    print(f'Epoch: {e + 1}, eval accuracy {test_accuracy}, eval loss {eval_loss}')\n",
    "    if test_accuracy > best_accuracy:\n",
    "        torch.save(model.state_dict(), 'checkpoints/model.pth')\n",
    "        best_accuracy = test_accuracy"
   ],
   "metadata": {
    "collapsed": false,
    "pycharm": {
     "name": "#%%\n"
    }
   }
  }
 ],
 "metadata": {
  "kernelspec": {
   "name": "pytorch",
   "language": "python",
   "display_name": "pytorch"
  },
  "language_info": {
   "codemirror_mode": {
    "name": "ipython",
    "version": 2
   },
   "file_extension": ".py",
   "mimetype": "text/x-python",
   "name": "python",
   "nbconvert_exporter": "python",
   "pygments_lexer": "ipython2",
   "version": "2.7.6"
  }
 },
 "nbformat": 4,
 "nbformat_minor": 0
}